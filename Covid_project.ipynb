{
  "nbformat": 4,
  "nbformat_minor": 0,
  "metadata": {
    "colab": {
      "provenance": [],
      "authorship_tag": "ABX9TyPYsyzm5/soDmCj61m5+xF7",
      "include_colab_link": true
    },
    "kernelspec": {
      "name": "python3",
      "display_name": "Python 3"
    },
    "language_info": {
      "name": "python"
    }
  },
  "cells": [
    {
      "cell_type": "markdown",
      "metadata": {
        "id": "view-in-github",
        "colab_type": "text"
      },
      "source": [
        "<a href=\"https://colab.research.google.com/github/riyabasu06/Logistic-Regression-Project/blob/main/Covid_project.ipynb\" target=\"_parent\"><img src=\"https://colab.research.google.com/assets/colab-badge.svg\" alt=\"Open In Colab\"/></a>"
      ]
    },
    {
      "cell_type": "markdown",
      "source": [
        "## Import Libraries"
      ],
      "metadata": {
        "id": "hcJsS04WOuiI"
      }
    },
    {
      "cell_type": "code",
      "execution_count": 60,
      "metadata": {
        "id": "LUjv_148y5lW"
      },
      "outputs": [],
      "source": [
        "import pandas as pd\n",
        "import numpy as np\n",
        "import matplotlib.pyplot as plt"
      ]
    },
    {
      "cell_type": "markdown",
      "source": [
        "## Import Dataset"
      ],
      "metadata": {
        "id": "h_3WiZm6OyJP"
      }
    },
    {
      "cell_type": "code",
      "source": [
        "dataset = pd.read_csv('Covid_Data_new.csv')\n",
        "X = dataset.iloc[:, :-1].values #independent features/variable\n",
        "y = dataset.iloc[:, -1].values #dependent variable"
      ],
      "metadata": {
        "id": "0DXhrZWpzC51"
      },
      "execution_count": 61,
      "outputs": []
    },
    {
      "cell_type": "markdown",
      "source": [
        "## Missing values(impute)"
      ],
      "metadata": {
        "id": "tLC4yDgeO089"
      }
    },
    {
      "cell_type": "code",
      "source": [
        "from sklearn.impute import SimpleImputer\n",
        "imputer = SimpleImputer(missing_values=np.nan, strategy='mean')\n",
        "\n",
        "imputer.fit(X[:, 0:1])\n",
        "X[:, 0:1] = imputer.transform(X[:, 0:1])\n",
        "\n",
        "imputer.fit(X[:, 4:5])\n",
        "X[:, 4:5] = imputer.transform(X[:, 4:5])"
      ],
      "metadata": {
        "id": "PhPoUrWmEjBZ"
      },
      "execution_count": 62,
      "outputs": []
    },
    {
      "cell_type": "markdown",
      "source": [
        "## Encoding columns"
      ],
      "metadata": {
        "id": "_n5u7xV3O7y3"
      }
    },
    {
      "cell_type": "code",
      "source": [
        "from sklearn.compose import ColumnTransformer\n",
        "from sklearn.preprocessing import OneHotEncoder, LabelEncoder\n",
        "ct = ColumnTransformer(transformers=[('encoder', OneHotEncoder(sparse_output=False), [1,2,3])], remainder='passthrough')\n",
        "X = np.array(ct.fit_transform(X))\n",
        "\n",
        "le = LabelEncoder()\n",
        "y = np.array(le.fit_transform(y))"
      ],
      "metadata": {
        "id": "GJ1mSeVkGOEq"
      },
      "execution_count": 63,
      "outputs": []
    },
    {
      "cell_type": "code",
      "source": [
        "X"
      ],
      "metadata": {
        "colab": {
          "base_uri": "https://localhost:8080/"
        },
        "collapsed": true,
        "id": "ZDv5uHlZd0Px",
        "outputId": "299f6046-5bd0-420c-bb7e-5fb033643fe4"
      },
      "execution_count": 69,
      "outputs": [
        {
          "output_type": "execute_result",
          "data": {
            "text/plain": [
              "array([[0.0, 0.0, 1.0, 1.0, 0.0, 1.0, 0.0, 10.0, 97.0],\n",
              "       [0.0, 0.0, 1.0, 1.0, 0.0, 1.0, 0.0, 12.0, 97.0],\n",
              "       [0.0, 0.0, 1.0, 1.0, 0.0, 1.0, 0.0, 15.0, 94.0],\n",
              "       [0.0, 0.0, 1.0, 1.0, 0.0, 1.0, 0.0, 10.0, 97.0],\n",
              "       [0.0, 1.0, 0.0, 1.0, 0.0, 1.0, 0.0, 13.0, 94.0],\n",
              "       [0.0, 1.0, 0.0, 1.0, 0.0, 1.0, 0.0, 12.0, 97.0],\n",
              "       [0.0, 1.0, 0.0, 1.0, 0.0, 1.0, 0.0, 13.0, 93.0],\n",
              "       [0.0, 1.0, 0.0, 1.0, 0.0, 1.0, 0.0, 15.0, 92.0],\n",
              "       [0.0, 1.0, 0.0, 1.0, 0.0, 1.0, 0.0, 18.0, 66.0],\n",
              "       [0.0, 0.0, 1.0, 1.0, 0.0, 1.0, 0.0, 19.0, 92.0],\n",
              "       [0.0, 0.0, 1.0, 1.0, 0.0, 1.0, 0.0, 20.0, 93.0],\n",
              "       [0.0, 0.0, 1.0, 1.0, 0.0, 1.0, 0.0, 17.0, 93.0],\n",
              "       [0.0, 0.0, 1.0, 1.0, 0.0, 1.0, 0.0, 16.0, 92.0],\n",
              "       [0.0, 0.0, 1.0, 1.0, 0.0, 1.0, 0.0, 18.0, 93.0],\n",
              "       [0.0, 0.0, 1.0, 1.0, 0.0, 1.0, 0.0, 20.0, 92.0],\n",
              "       [0.0, 1.0, 0.0, 1.0, 0.0, 1.0, 0.0, 25.0, 93.0],\n",
              "       [0.0, 1.0, 0.0, 1.0, 0.0, 1.0, 0.0, 24.0, 92.0],\n",
              "       [1.0, 0.0, 0.0, 1.0, 0.0, 1.0, 0.0, 26.0, 94.0],\n",
              "       [0.0, 0.0, 1.0, 1.0, 0.0, 1.0, 0.0, 28.0, 99.0],\n",
              "       [0.0, 0.0, 1.0, 1.0, 0.0, 1.0, 0.0, 29.0, 93.0],\n",
              "       [0.0, 1.0, 0.0, 1.0, 0.0, 1.0, 0.0, 30.0, 62.0],\n",
              "       [0.0, 0.0, 1.0, 1.0, 0.0, 1.0, 0.0, 19.0, 89.0],\n",
              "       [0.0, 0.0, 1.0, 1.0, 0.0, 0.0, 1.0, 25.0, 86.0],\n",
              "       [0.0, 0.0, 1.0, 1.0, 0.0, 1.0, 0.0, 26.0, 82.07246376811594],\n",
              "       [0.0, 0.0, 1.0, 1.0, 0.0, 1.0, 0.0, 28.0, 89.0],\n",
              "       [0.0, 1.0, 0.0, 0.0, 1.0, 1.0, 0.0, 30.0, 86.0],\n",
              "       [0.0, 1.0, 0.0, 1.0, 0.0, 1.0, 0.0, 35.0, 89.0],\n",
              "       [0.0, 1.0, 0.0, 1.0, 0.0, 0.0, 1.0, 32.0, 84.0],\n",
              "       [0.0, 1.0, 0.0, 0.0, 1.0, 1.0, 0.0, 45.130434782608695, 90.0],\n",
              "       [0.0, 1.0, 0.0, 1.0, 0.0, 1.0, 0.0, 32.0, 89.0],\n",
              "       [0.0, 1.0, 0.0, 1.0, 0.0, 0.0, 1.0, 35.0, 92.0],\n",
              "       [1.0, 0.0, 0.0, 1.0, 0.0, 1.0, 0.0, 38.0, 75.0],\n",
              "       [0.0, 1.0, 0.0, 1.0, 0.0, 0.0, 1.0, 40.0, 90.0],\n",
              "       [1.0, 0.0, 0.0, 0.0, 1.0, 1.0, 0.0, 46.0, 91.0],\n",
              "       [0.0, 1.0, 0.0, 1.0, 0.0, 0.0, 1.0, 48.0, 93.0],\n",
              "       [1.0, 0.0, 0.0, 1.0, 0.0, 1.0, 0.0, 42.0, 92.0],\n",
              "       [1.0, 0.0, 0.0, 1.0, 0.0, 1.0, 0.0, 40.0, 92.0],\n",
              "       [0.0, 1.0, 0.0, 1.0, 0.0, 1.0, 0.0, 49.0, 80.0],\n",
              "       [1.0, 0.0, 0.0, 0.0, 1.0, 0.0, 1.0, 50.0, 77.0],\n",
              "       [1.0, 0.0, 0.0, 0.0, 1.0, 1.0, 0.0, 36.0, 90.0],\n",
              "       [1.0, 0.0, 0.0, 0.0, 1.0, 0.0, 1.0, 52.0, 80.0],\n",
              "       [1.0, 0.0, 0.0, 0.0, 1.0, 0.0, 1.0, 56.0, 77.0],\n",
              "       [1.0, 0.0, 0.0, 1.0, 0.0, 1.0, 0.0, 58.0, 70.0],\n",
              "       [1.0, 0.0, 0.0, 1.0, 0.0, 0.0, 1.0, 59.0, 69.0],\n",
              "       [1.0, 0.0, 0.0, 0.0, 1.0, 0.0, 1.0, 60.0, 68.0],\n",
              "       [1.0, 0.0, 0.0, 0.0, 1.0, 1.0, 0.0, 53.0, 55.0],\n",
              "       [1.0, 0.0, 0.0, 0.0, 1.0, 0.0, 1.0, 54.0, 70.0],\n",
              "       [1.0, 0.0, 0.0, 0.0, 1.0, 0.0, 1.0, 62.0, 68.0],\n",
              "       [1.0, 0.0, 0.0, 0.0, 1.0, 0.0, 1.0, 63.0, 66.0],\n",
              "       [1.0, 0.0, 0.0, 0.0, 1.0, 1.0, 0.0, 68.0, 67.0],\n",
              "       [1.0, 0.0, 0.0, 1.0, 0.0, 0.0, 1.0, 69.0, 53.0],\n",
              "       [1.0, 0.0, 0.0, 0.0, 1.0, 0.0, 1.0, 64.0, 73.0],\n",
              "       [1.0, 0.0, 0.0, 0.0, 1.0, 0.0, 1.0, 61.0, 76.0],\n",
              "       [0.0, 0.0, 1.0, 1.0, 0.0, 0.0, 1.0, 70.0, 88.0],\n",
              "       [1.0, 0.0, 0.0, 0.0, 1.0, 1.0, 0.0, 59.0, 68.0],\n",
              "       [1.0, 0.0, 0.0, 0.0, 1.0, 0.0, 1.0, 62.0, 69.0],\n",
              "       [1.0, 0.0, 0.0, 0.0, 1.0, 0.0, 1.0, 78.0, 71.0],\n",
              "       [1.0, 0.0, 0.0, 0.0, 1.0, 0.0, 1.0, 74.0, 75.0],\n",
              "       [1.0, 0.0, 0.0, 1.0, 0.0, 0.0, 1.0, 75.0, 72.0],\n",
              "       [1.0, 0.0, 0.0, 0.0, 1.0, 1.0, 0.0, 56.0, 76.0],\n",
              "       [1.0, 0.0, 0.0, 1.0, 0.0, 0.0, 1.0, 80.0, 92.0],\n",
              "       [1.0, 0.0, 0.0, 0.0, 1.0, 0.0, 1.0, 82.0, 73.0],\n",
              "       [1.0, 0.0, 0.0, 0.0, 1.0, 0.0, 1.0, 86.0, 71.0],\n",
              "       [1.0, 0.0, 0.0, 0.0, 1.0, 0.0, 1.0, 90.0, 67.0],\n",
              "       [1.0, 0.0, 0.0, 0.0, 1.0, 0.0, 1.0, 84.0, 75.0],\n",
              "       [1.0, 0.0, 0.0, 1.0, 0.0, 0.0, 1.0, 86.0, 76.0],\n",
              "       [0.0, 1.0, 0.0, 1.0, 0.0, 0.0, 1.0, 61.0, 90.0],\n",
              "       [1.0, 0.0, 0.0, 0.0, 1.0, 0.0, 1.0, 94.0, 64.0],\n",
              "       [1.0, 0.0, 0.0, 0.0, 1.0, 0.0, 1.0, 81.0, 75.0],\n",
              "       [1.0, 0.0, 0.0, 0.0, 1.0, 0.0, 1.0, 76.0, 80.0]], dtype=object)"
            ]
          },
          "metadata": {},
          "execution_count": 69
        }
      ]
    },
    {
      "cell_type": "markdown",
      "source": [
        "## Splitting into Train-Test Sets"
      ],
      "metadata": {
        "id": "fgK8_RVrPBva"
      }
    },
    {
      "cell_type": "code",
      "source": [
        "from sklearn.model_selection import train_test_split\n",
        "X_train, X_test, y_train, y_test = train_test_split(X, y, test_size=0.2, random_state=0)"
      ],
      "metadata": {
        "id": "x-MIW7AdJCiE"
      },
      "execution_count": 64,
      "outputs": []
    },
    {
      "cell_type": "markdown",
      "source": [
        "## Feature Scaling"
      ],
      "metadata": {
        "id": "m2mvLlocPF4s"
      }
    },
    {
      "cell_type": "code",
      "source": [
        "from sklearn.preprocessing import StandardScaler\n",
        "sc = StandardScaler()\n",
        "\n",
        "X_train[:, 6:7] = sc.fit_transform(X_train[:, 6:7])\n",
        "X_test[:, 6:7] = sc.transform(X_test[:, 6:7])\n",
        "\n",
        "X_train[:, 3:4] = sc.fit_transform(X_train[:, 3:4])\n",
        "X_test[:, 3:4] = sc.transform(X_test[:, 3:4])"
      ],
      "metadata": {
        "id": "D8dvYMVmN-_j"
      },
      "execution_count": 65,
      "outputs": []
    },
    {
      "cell_type": "markdown",
      "source": [
        "## Creating Logistic Regression ML Model to classify the data(Train the Model on Training dataset)"
      ],
      "metadata": {
        "id": "KLR7kcvhPJiZ"
      }
    },
    {
      "cell_type": "code",
      "source": [
        "from sklearn.linear_model import LogisticRegression\n",
        "classifier = LogisticRegression(random_state=0, max_iter=300)\n",
        "classifier.fit(X_train, y_train)"
      ],
      "metadata": {
        "colab": {
          "base_uri": "https://localhost:8080/",
          "height": 80
        },
        "id": "fvcK5nGyeDzw",
        "outputId": "bc8a6e8d-b633-4461-86a2-babd7b1faa8c"
      },
      "execution_count": 68,
      "outputs": [
        {
          "output_type": "execute_result",
          "data": {
            "text/plain": [
              "LogisticRegression(max_iter=300, random_state=0)"
            ],
            "text/html": [
              "<style>#sk-container-id-2 {\n",
              "  /* Definition of color scheme common for light and dark mode */\n",
              "  --sklearn-color-text: black;\n",
              "  --sklearn-color-line: gray;\n",
              "  /* Definition of color scheme for unfitted estimators */\n",
              "  --sklearn-color-unfitted-level-0: #fff5e6;\n",
              "  --sklearn-color-unfitted-level-1: #f6e4d2;\n",
              "  --sklearn-color-unfitted-level-2: #ffe0b3;\n",
              "  --sklearn-color-unfitted-level-3: chocolate;\n",
              "  /* Definition of color scheme for fitted estimators */\n",
              "  --sklearn-color-fitted-level-0: #f0f8ff;\n",
              "  --sklearn-color-fitted-level-1: #d4ebff;\n",
              "  --sklearn-color-fitted-level-2: #b3dbfd;\n",
              "  --sklearn-color-fitted-level-3: cornflowerblue;\n",
              "\n",
              "  /* Specific color for light theme */\n",
              "  --sklearn-color-text-on-default-background: var(--sg-text-color, var(--theme-code-foreground, var(--jp-content-font-color1, black)));\n",
              "  --sklearn-color-background: var(--sg-background-color, var(--theme-background, var(--jp-layout-color0, white)));\n",
              "  --sklearn-color-border-box: var(--sg-text-color, var(--theme-code-foreground, var(--jp-content-font-color1, black)));\n",
              "  --sklearn-color-icon: #696969;\n",
              "\n",
              "  @media (prefers-color-scheme: dark) {\n",
              "    /* Redefinition of color scheme for dark theme */\n",
              "    --sklearn-color-text-on-default-background: var(--sg-text-color, var(--theme-code-foreground, var(--jp-content-font-color1, white)));\n",
              "    --sklearn-color-background: var(--sg-background-color, var(--theme-background, var(--jp-layout-color0, #111)));\n",
              "    --sklearn-color-border-box: var(--sg-text-color, var(--theme-code-foreground, var(--jp-content-font-color1, white)));\n",
              "    --sklearn-color-icon: #878787;\n",
              "  }\n",
              "}\n",
              "\n",
              "#sk-container-id-2 {\n",
              "  color: var(--sklearn-color-text);\n",
              "}\n",
              "\n",
              "#sk-container-id-2 pre {\n",
              "  padding: 0;\n",
              "}\n",
              "\n",
              "#sk-container-id-2 input.sk-hidden--visually {\n",
              "  border: 0;\n",
              "  clip: rect(1px 1px 1px 1px);\n",
              "  clip: rect(1px, 1px, 1px, 1px);\n",
              "  height: 1px;\n",
              "  margin: -1px;\n",
              "  overflow: hidden;\n",
              "  padding: 0;\n",
              "  position: absolute;\n",
              "  width: 1px;\n",
              "}\n",
              "\n",
              "#sk-container-id-2 div.sk-dashed-wrapped {\n",
              "  border: 1px dashed var(--sklearn-color-line);\n",
              "  margin: 0 0.4em 0.5em 0.4em;\n",
              "  box-sizing: border-box;\n",
              "  padding-bottom: 0.4em;\n",
              "  background-color: var(--sklearn-color-background);\n",
              "}\n",
              "\n",
              "#sk-container-id-2 div.sk-container {\n",
              "  /* jupyter's `normalize.less` sets `[hidden] { display: none; }`\n",
              "     but bootstrap.min.css set `[hidden] { display: none !important; }`\n",
              "     so we also need the `!important` here to be able to override the\n",
              "     default hidden behavior on the sphinx rendered scikit-learn.org.\n",
              "     See: https://github.com/scikit-learn/scikit-learn/issues/21755 */\n",
              "  display: inline-block !important;\n",
              "  position: relative;\n",
              "}\n",
              "\n",
              "#sk-container-id-2 div.sk-text-repr-fallback {\n",
              "  display: none;\n",
              "}\n",
              "\n",
              "div.sk-parallel-item,\n",
              "div.sk-serial,\n",
              "div.sk-item {\n",
              "  /* draw centered vertical line to link estimators */\n",
              "  background-image: linear-gradient(var(--sklearn-color-text-on-default-background), var(--sklearn-color-text-on-default-background));\n",
              "  background-size: 2px 100%;\n",
              "  background-repeat: no-repeat;\n",
              "  background-position: center center;\n",
              "}\n",
              "\n",
              "/* Parallel-specific style estimator block */\n",
              "\n",
              "#sk-container-id-2 div.sk-parallel-item::after {\n",
              "  content: \"\";\n",
              "  width: 100%;\n",
              "  border-bottom: 2px solid var(--sklearn-color-text-on-default-background);\n",
              "  flex-grow: 1;\n",
              "}\n",
              "\n",
              "#sk-container-id-2 div.sk-parallel {\n",
              "  display: flex;\n",
              "  align-items: stretch;\n",
              "  justify-content: center;\n",
              "  background-color: var(--sklearn-color-background);\n",
              "  position: relative;\n",
              "}\n",
              "\n",
              "#sk-container-id-2 div.sk-parallel-item {\n",
              "  display: flex;\n",
              "  flex-direction: column;\n",
              "}\n",
              "\n",
              "#sk-container-id-2 div.sk-parallel-item:first-child::after {\n",
              "  align-self: flex-end;\n",
              "  width: 50%;\n",
              "}\n",
              "\n",
              "#sk-container-id-2 div.sk-parallel-item:last-child::after {\n",
              "  align-self: flex-start;\n",
              "  width: 50%;\n",
              "}\n",
              "\n",
              "#sk-container-id-2 div.sk-parallel-item:only-child::after {\n",
              "  width: 0;\n",
              "}\n",
              "\n",
              "/* Serial-specific style estimator block */\n",
              "\n",
              "#sk-container-id-2 div.sk-serial {\n",
              "  display: flex;\n",
              "  flex-direction: column;\n",
              "  align-items: center;\n",
              "  background-color: var(--sklearn-color-background);\n",
              "  padding-right: 1em;\n",
              "  padding-left: 1em;\n",
              "}\n",
              "\n",
              "\n",
              "/* Toggleable style: style used for estimator/Pipeline/ColumnTransformer box that is\n",
              "clickable and can be expanded/collapsed.\n",
              "- Pipeline and ColumnTransformer use this feature and define the default style\n",
              "- Estimators will overwrite some part of the style using the `sk-estimator` class\n",
              "*/\n",
              "\n",
              "/* Pipeline and ColumnTransformer style (default) */\n",
              "\n",
              "#sk-container-id-2 div.sk-toggleable {\n",
              "  /* Default theme specific background. It is overwritten whether we have a\n",
              "  specific estimator or a Pipeline/ColumnTransformer */\n",
              "  background-color: var(--sklearn-color-background);\n",
              "}\n",
              "\n",
              "/* Toggleable label */\n",
              "#sk-container-id-2 label.sk-toggleable__label {\n",
              "  cursor: pointer;\n",
              "  display: block;\n",
              "  width: 100%;\n",
              "  margin-bottom: 0;\n",
              "  padding: 0.5em;\n",
              "  box-sizing: border-box;\n",
              "  text-align: center;\n",
              "}\n",
              "\n",
              "#sk-container-id-2 label.sk-toggleable__label-arrow:before {\n",
              "  /* Arrow on the left of the label */\n",
              "  content: \"▸\";\n",
              "  float: left;\n",
              "  margin-right: 0.25em;\n",
              "  color: var(--sklearn-color-icon);\n",
              "}\n",
              "\n",
              "#sk-container-id-2 label.sk-toggleable__label-arrow:hover:before {\n",
              "  color: var(--sklearn-color-text);\n",
              "}\n",
              "\n",
              "/* Toggleable content - dropdown */\n",
              "\n",
              "#sk-container-id-2 div.sk-toggleable__content {\n",
              "  max-height: 0;\n",
              "  max-width: 0;\n",
              "  overflow: hidden;\n",
              "  text-align: left;\n",
              "  /* unfitted */\n",
              "  background-color: var(--sklearn-color-unfitted-level-0);\n",
              "}\n",
              "\n",
              "#sk-container-id-2 div.sk-toggleable__content.fitted {\n",
              "  /* fitted */\n",
              "  background-color: var(--sklearn-color-fitted-level-0);\n",
              "}\n",
              "\n",
              "#sk-container-id-2 div.sk-toggleable__content pre {\n",
              "  margin: 0.2em;\n",
              "  border-radius: 0.25em;\n",
              "  color: var(--sklearn-color-text);\n",
              "  /* unfitted */\n",
              "  background-color: var(--sklearn-color-unfitted-level-0);\n",
              "}\n",
              "\n",
              "#sk-container-id-2 div.sk-toggleable__content.fitted pre {\n",
              "  /* unfitted */\n",
              "  background-color: var(--sklearn-color-fitted-level-0);\n",
              "}\n",
              "\n",
              "#sk-container-id-2 input.sk-toggleable__control:checked~div.sk-toggleable__content {\n",
              "  /* Expand drop-down */\n",
              "  max-height: 200px;\n",
              "  max-width: 100%;\n",
              "  overflow: auto;\n",
              "}\n",
              "\n",
              "#sk-container-id-2 input.sk-toggleable__control:checked~label.sk-toggleable__label-arrow:before {\n",
              "  content: \"▾\";\n",
              "}\n",
              "\n",
              "/* Pipeline/ColumnTransformer-specific style */\n",
              "\n",
              "#sk-container-id-2 div.sk-label input.sk-toggleable__control:checked~label.sk-toggleable__label {\n",
              "  color: var(--sklearn-color-text);\n",
              "  background-color: var(--sklearn-color-unfitted-level-2);\n",
              "}\n",
              "\n",
              "#sk-container-id-2 div.sk-label.fitted input.sk-toggleable__control:checked~label.sk-toggleable__label {\n",
              "  background-color: var(--sklearn-color-fitted-level-2);\n",
              "}\n",
              "\n",
              "/* Estimator-specific style */\n",
              "\n",
              "/* Colorize estimator box */\n",
              "#sk-container-id-2 div.sk-estimator input.sk-toggleable__control:checked~label.sk-toggleable__label {\n",
              "  /* unfitted */\n",
              "  background-color: var(--sklearn-color-unfitted-level-2);\n",
              "}\n",
              "\n",
              "#sk-container-id-2 div.sk-estimator.fitted input.sk-toggleable__control:checked~label.sk-toggleable__label {\n",
              "  /* fitted */\n",
              "  background-color: var(--sklearn-color-fitted-level-2);\n",
              "}\n",
              "\n",
              "#sk-container-id-2 div.sk-label label.sk-toggleable__label,\n",
              "#sk-container-id-2 div.sk-label label {\n",
              "  /* The background is the default theme color */\n",
              "  color: var(--sklearn-color-text-on-default-background);\n",
              "}\n",
              "\n",
              "/* On hover, darken the color of the background */\n",
              "#sk-container-id-2 div.sk-label:hover label.sk-toggleable__label {\n",
              "  color: var(--sklearn-color-text);\n",
              "  background-color: var(--sklearn-color-unfitted-level-2);\n",
              "}\n",
              "\n",
              "/* Label box, darken color on hover, fitted */\n",
              "#sk-container-id-2 div.sk-label.fitted:hover label.sk-toggleable__label.fitted {\n",
              "  color: var(--sklearn-color-text);\n",
              "  background-color: var(--sklearn-color-fitted-level-2);\n",
              "}\n",
              "\n",
              "/* Estimator label */\n",
              "\n",
              "#sk-container-id-2 div.sk-label label {\n",
              "  font-family: monospace;\n",
              "  font-weight: bold;\n",
              "  display: inline-block;\n",
              "  line-height: 1.2em;\n",
              "}\n",
              "\n",
              "#sk-container-id-2 div.sk-label-container {\n",
              "  text-align: center;\n",
              "}\n",
              "\n",
              "/* Estimator-specific */\n",
              "#sk-container-id-2 div.sk-estimator {\n",
              "  font-family: monospace;\n",
              "  border: 1px dotted var(--sklearn-color-border-box);\n",
              "  border-radius: 0.25em;\n",
              "  box-sizing: border-box;\n",
              "  margin-bottom: 0.5em;\n",
              "  /* unfitted */\n",
              "  background-color: var(--sklearn-color-unfitted-level-0);\n",
              "}\n",
              "\n",
              "#sk-container-id-2 div.sk-estimator.fitted {\n",
              "  /* fitted */\n",
              "  background-color: var(--sklearn-color-fitted-level-0);\n",
              "}\n",
              "\n",
              "/* on hover */\n",
              "#sk-container-id-2 div.sk-estimator:hover {\n",
              "  /* unfitted */\n",
              "  background-color: var(--sklearn-color-unfitted-level-2);\n",
              "}\n",
              "\n",
              "#sk-container-id-2 div.sk-estimator.fitted:hover {\n",
              "  /* fitted */\n",
              "  background-color: var(--sklearn-color-fitted-level-2);\n",
              "}\n",
              "\n",
              "/* Specification for estimator info (e.g. \"i\" and \"?\") */\n",
              "\n",
              "/* Common style for \"i\" and \"?\" */\n",
              "\n",
              ".sk-estimator-doc-link,\n",
              "a:link.sk-estimator-doc-link,\n",
              "a:visited.sk-estimator-doc-link {\n",
              "  float: right;\n",
              "  font-size: smaller;\n",
              "  line-height: 1em;\n",
              "  font-family: monospace;\n",
              "  background-color: var(--sklearn-color-background);\n",
              "  border-radius: 1em;\n",
              "  height: 1em;\n",
              "  width: 1em;\n",
              "  text-decoration: none !important;\n",
              "  margin-left: 1ex;\n",
              "  /* unfitted */\n",
              "  border: var(--sklearn-color-unfitted-level-1) 1pt solid;\n",
              "  color: var(--sklearn-color-unfitted-level-1);\n",
              "}\n",
              "\n",
              ".sk-estimator-doc-link.fitted,\n",
              "a:link.sk-estimator-doc-link.fitted,\n",
              "a:visited.sk-estimator-doc-link.fitted {\n",
              "  /* fitted */\n",
              "  border: var(--sklearn-color-fitted-level-1) 1pt solid;\n",
              "  color: var(--sklearn-color-fitted-level-1);\n",
              "}\n",
              "\n",
              "/* On hover */\n",
              "div.sk-estimator:hover .sk-estimator-doc-link:hover,\n",
              ".sk-estimator-doc-link:hover,\n",
              "div.sk-label-container:hover .sk-estimator-doc-link:hover,\n",
              ".sk-estimator-doc-link:hover {\n",
              "  /* unfitted */\n",
              "  background-color: var(--sklearn-color-unfitted-level-3);\n",
              "  color: var(--sklearn-color-background);\n",
              "  text-decoration: none;\n",
              "}\n",
              "\n",
              "div.sk-estimator.fitted:hover .sk-estimator-doc-link.fitted:hover,\n",
              ".sk-estimator-doc-link.fitted:hover,\n",
              "div.sk-label-container:hover .sk-estimator-doc-link.fitted:hover,\n",
              ".sk-estimator-doc-link.fitted:hover {\n",
              "  /* fitted */\n",
              "  background-color: var(--sklearn-color-fitted-level-3);\n",
              "  color: var(--sklearn-color-background);\n",
              "  text-decoration: none;\n",
              "}\n",
              "\n",
              "/* Span, style for the box shown on hovering the info icon */\n",
              ".sk-estimator-doc-link span {\n",
              "  display: none;\n",
              "  z-index: 9999;\n",
              "  position: relative;\n",
              "  font-weight: normal;\n",
              "  right: .2ex;\n",
              "  padding: .5ex;\n",
              "  margin: .5ex;\n",
              "  width: min-content;\n",
              "  min-width: 20ex;\n",
              "  max-width: 50ex;\n",
              "  color: var(--sklearn-color-text);\n",
              "  box-shadow: 2pt 2pt 4pt #999;\n",
              "  /* unfitted */\n",
              "  background: var(--sklearn-color-unfitted-level-0);\n",
              "  border: .5pt solid var(--sklearn-color-unfitted-level-3);\n",
              "}\n",
              "\n",
              ".sk-estimator-doc-link.fitted span {\n",
              "  /* fitted */\n",
              "  background: var(--sklearn-color-fitted-level-0);\n",
              "  border: var(--sklearn-color-fitted-level-3);\n",
              "}\n",
              "\n",
              ".sk-estimator-doc-link:hover span {\n",
              "  display: block;\n",
              "}\n",
              "\n",
              "/* \"?\"-specific style due to the `<a>` HTML tag */\n",
              "\n",
              "#sk-container-id-2 a.estimator_doc_link {\n",
              "  float: right;\n",
              "  font-size: 1rem;\n",
              "  line-height: 1em;\n",
              "  font-family: monospace;\n",
              "  background-color: var(--sklearn-color-background);\n",
              "  border-radius: 1rem;\n",
              "  height: 1rem;\n",
              "  width: 1rem;\n",
              "  text-decoration: none;\n",
              "  /* unfitted */\n",
              "  color: var(--sklearn-color-unfitted-level-1);\n",
              "  border: var(--sklearn-color-unfitted-level-1) 1pt solid;\n",
              "}\n",
              "\n",
              "#sk-container-id-2 a.estimator_doc_link.fitted {\n",
              "  /* fitted */\n",
              "  border: var(--sklearn-color-fitted-level-1) 1pt solid;\n",
              "  color: var(--sklearn-color-fitted-level-1);\n",
              "}\n",
              "\n",
              "/* On hover */\n",
              "#sk-container-id-2 a.estimator_doc_link:hover {\n",
              "  /* unfitted */\n",
              "  background-color: var(--sklearn-color-unfitted-level-3);\n",
              "  color: var(--sklearn-color-background);\n",
              "  text-decoration: none;\n",
              "}\n",
              "\n",
              "#sk-container-id-2 a.estimator_doc_link.fitted:hover {\n",
              "  /* fitted */\n",
              "  background-color: var(--sklearn-color-fitted-level-3);\n",
              "}\n",
              "</style><div id=\"sk-container-id-2\" class=\"sk-top-container\"><div class=\"sk-text-repr-fallback\"><pre>LogisticRegression(max_iter=300, random_state=0)</pre><b>In a Jupyter environment, please rerun this cell to show the HTML representation or trust the notebook. <br />On GitHub, the HTML representation is unable to render, please try loading this page with nbviewer.org.</b></div><div class=\"sk-container\" hidden><div class=\"sk-item\"><div class=\"sk-estimator fitted sk-toggleable\"><input class=\"sk-toggleable__control sk-hidden--visually\" id=\"sk-estimator-id-2\" type=\"checkbox\" checked><label for=\"sk-estimator-id-2\" class=\"sk-toggleable__label fitted sk-toggleable__label-arrow fitted\">&nbsp;&nbsp;LogisticRegression<a class=\"sk-estimator-doc-link fitted\" rel=\"noreferrer\" target=\"_blank\" href=\"https://scikit-learn.org/1.5/modules/generated/sklearn.linear_model.LogisticRegression.html\">?<span>Documentation for LogisticRegression</span></a><span class=\"sk-estimator-doc-link fitted\">i<span>Fitted</span></span></label><div class=\"sk-toggleable__content fitted\"><pre>LogisticRegression(max_iter=300, random_state=0)</pre></div> </div></div></div></div>"
            ]
          },
          "metadata": {},
          "execution_count": 68
        }
      ]
    },
    {
      "cell_type": "markdown",
      "source": [
        "## Make predictions"
      ],
      "metadata": {
        "id": "SpaytZfAeXtu"
      }
    },
    {
      "cell_type": "code",
      "source": [
        "# Define the new input data in a 2D array format\n",
        "test_pred = [[10, 'Normal', 'no', 'no', 97]]\n",
        "\n",
        "# Step 1: Encode categorical values using the same ColumnTransformer as in training\n",
        "test_pred_transformed = ct.transform(test_pred)\n",
        "\n",
        "# Step 2: Scale the numerical features (last two columns in test_pred_transformed)\n",
        "test_pred_transformed[:, -2] = sc.transform(test_pred_transformed[:, -2].reshape(-1, 1)).flatten()  # 'age'\n",
        "test_pred_transformed[:, -1] = sc.transform(test_pred_transformed[:, -1].reshape(-1, 1)).flatten()  # 'Blood O2 Level'\n",
        "\n",
        "# Step 3: Make the prediction\n",
        "predicted_class = classifier.predict(test_pred_transformed)\n",
        "\n",
        "# Decode the prediction to get the original label (e.g., 'Yes' or 'No')\n",
        "predicted_label = le.inverse_transform(predicted_class)\n",
        "\n",
        "# Output the prediction\n",
        "print(f\"Predicted Hospitalization Need: {predicted_label[0]}\")\n"
      ],
      "metadata": {
        "colab": {
          "base_uri": "https://localhost:8080/"
        },
        "id": "J0y4_hLCiuyc",
        "outputId": "6f2bc178-13a5-4790-d248-11e3f5de0ae6"
      },
      "execution_count": 85,
      "outputs": [
        {
          "output_type": "stream",
          "name": "stdout",
          "text": [
            "Predicted Hospitalization Need: No\n"
          ]
        }
      ]
    },
    {
      "cell_type": "markdown",
      "source": [
        "## Predicting the Model on Test Set"
      ],
      "metadata": {
        "id": "3z6eeLjOfA-F"
      }
    },
    {
      "cell_type": "code",
      "source": [
        "y_pred = classifier.predict(X_test)"
      ],
      "metadata": {
        "id": "TbfvciBchK31"
      },
      "execution_count": 75,
      "outputs": []
    },
    {
      "cell_type": "code",
      "source": [
        "results = pd.DataFrame({'Actual' : y_test, 'Predicted' : y_pred})\n",
        "results['Actual'] = le.inverse_transform(results['Actual'])\n",
        "results['Predicted'] = le.inverse_transform(results['Predicted'])\n",
        "print(results)"
      ],
      "metadata": {
        "colab": {
          "base_uri": "https://localhost:8080/"
        },
        "id": "5WASclPBhvwr",
        "outputId": "82880c39-8d1a-4100-dc3d-b71888173892"
      },
      "execution_count": 86,
      "outputs": [
        {
          "output_type": "stream",
          "name": "stdout",
          "text": [
            "   Actual Predicted\n",
            "0      No        No\n",
            "1      No        No\n",
            "2     Yes       Yes\n",
            "3      No        No\n",
            "4      No        No\n",
            "5     Yes       Yes\n",
            "6      No        No\n",
            "7     Yes       Yes\n",
            "8      No        No\n",
            "9     Yes       Yes\n",
            "10    Yes       Yes\n",
            "11     No        No\n",
            "12    Yes       Yes\n",
            "13    Yes       Yes\n"
          ]
        }
      ]
    },
    {
      "cell_type": "markdown",
      "source": [
        "## Confusion Matrix"
      ],
      "metadata": {
        "id": "U53J50OHfC4t"
      }
    },
    {
      "cell_type": "code",
      "source": [
        "from sklearn.metrics import confusion_matrix, accuracy_score\n",
        "cm = confusion_matrix(y_test, y_pred)\n",
        "print(cm)\n",
        "accuracy_score(y_test, y_pred)"
      ],
      "metadata": {
        "colab": {
          "base_uri": "https://localhost:8080/"
        },
        "id": "V3r4RNv0iOZV",
        "outputId": "210bb4f8-f822-41d2-d25b-8fbf9dc9f2da"
      },
      "execution_count": 81,
      "outputs": [
        {
          "output_type": "stream",
          "name": "stdout",
          "text": [
            "[[7 0]\n",
            " [0 7]]\n"
          ]
        },
        {
          "output_type": "execute_result",
          "data": {
            "text/plain": [
              "1.0"
            ]
          },
          "metadata": {},
          "execution_count": 81
        }
      ]
    },
    {
      "cell_type": "code",
      "source": [
        "import seaborn as sns\n",
        "plt.figure(figsize=(8, 6))\n",
        "sns.heatmap(cm, annot=True, fmt='d', cmap='Blues', xticklabels=['No', 'Yes'], yticklabels=['No', 'Yes'])\n",
        "plt.xlabel('Predicted')\n",
        "plt.ylabel('Actual')\n",
        "plt.title('Confusion Matrix')\n",
        "plt.show()"
      ],
      "metadata": {
        "colab": {
          "base_uri": "https://localhost:8080/",
          "height": 564
        },
        "collapsed": true,
        "id": "dwN7V1eHlDe6",
        "outputId": "26a1ef07-11c5-403c-ef30-b115d6c18510"
      },
      "execution_count": 88,
      "outputs": [
        {
          "output_type": "display_data",
          "data": {
            "text/plain": [
              "<Figure size 800x600 with 2 Axes>"
            ],
            "image/png": "[encoded data removed]"
          },
          "metadata": {}
        }
      ]
    },
    {
      "cell_type": "markdown",
      "source": [
        "## Visualizing Test Set results"
      ],
      "metadata": {
        "id": "LO2G1XBJfLDy"
      }
    },
    {
      "cell_type": "code",
      "source": [
        "# Select only two features for X_train and X_test if necessary\n",
        "# Assuming X_train_2D and X_test_2D are 2D versions of X_train and X_test with only two features\n",
        "X_train_2D, X_test_2D = X_train[:, :2], X_test[:, :2]\n",
        "\n",
        "# Train the classifier on these two features\n",
        "classifier_2D = LogisticRegression(random_state=0)\n",
        "classifier_2D.fit(X_train_2D, y_train)\n",
        "\n",
        "# Visualize the decision boundary\n",
        "x_min, x_max = X_train_2D[:, 0].min() - 1, X_train_2D[:, 0].max() + 1\n",
        "y_min, y_max = X_train_2D[:, 1].min() - 1, X_train_2D[:, 1].max() + 1\n",
        "xx, yy = np.meshgrid(np.arange(x_min, x_max, 0.01), np.arange(y_min, y_max, 0.01))\n",
        "Z = classifier_2D.predict(np.c_[xx.ravel(), yy.ravel()])\n",
        "Z = Z.reshape(xx.shape)\n",
        "\n",
        "plt.contourf(xx, yy, Z, alpha=0.3, cmap='Paired')\n",
        "plt.scatter(X_test_2D[:, 0], X_test_2D[:, 1], c=y_test, cmap='Paired', edgecolors='k')\n",
        "plt.xlabel('Feature 1')\n",
        "plt.ylabel('Feature 2')\n",
        "plt.title('Logistic Regression Decision Boundary')\n",
        "plt.show()\n"
      ],
      "metadata": {
        "colab": {
          "base_uri": "https://localhost:8080/",
          "height": 472
        },
        "id": "pfndsEW2eER5",
        "outputId": "729d7f98-5755-43ad-807a-10d99ac8c01a"
      },
      "execution_count": 89,
      "outputs": [
        {
          "output_type": "display_data",
          "data": {
            "text/plain": [
              "<Figure size 640x480 with 1 Axes>"
            ],
            "image/png": "[encoded data removed]"
          },
          "metadata": {}
        }
      ]
    }
  ]
}